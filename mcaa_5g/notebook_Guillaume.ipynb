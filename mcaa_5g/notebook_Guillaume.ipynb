{
 "cells": [
  {
   "cell_type": "markdown",
   "metadata": {
    "colab_type": "text",
    "id": "view-in-github"
   },
   "source": [
    "<a href=\"https://colab.research.google.com/github/antoinexp/markov-chains-COM-516/blob/main/model.ipynb\" target=\"_parent\"><img src=\"https://colab.research.google.com/assets/colab-badge.svg\" alt=\"Open In Colab\"/></a>"
   ]
  },
  {
   "cell_type": "markdown",
   "metadata": {
    "id": "mCc-m9oEkOGy"
   },
   "source": [
    "This notebook is provided as a starting point to help you generate random instances G1 and G2 as mentioned in the handout.\n",
    "\n",
    "You are free to use and modify it at your own convenience.\n",
    "\n",
    "---\n",
    "\n"
   ]
  },
  {
   "cell_type": "code",
   "execution_count": 43,
   "metadata": {
    "id": "BMV_GyHTe-A5"
   },
   "outputs": [],
   "source": [
    "import scipy.stats as st\n",
    "import numpy as np\n",
    "import scipy as sp\n",
    "import matplotlib.pyplot as plt"
   ]
  },
  {
   "cell_type": "code",
   "execution_count": 44,
   "metadata": {
    "id": "9_4LNOEAfb6H"
   },
   "outputs": [],
   "source": [
    "class DatasetGenerator(object):\n",
    "    def __init__(self, N=100):\n",
    "        self.N = N\n",
    "        self.x = None\n",
    "        self.v = None\n",
    "        self.refresh()\n",
    "  \n",
    "    def refresh(self):\n",
    "        raise Exception(\"undefined\")"
   ]
  },
  {
   "cell_type": "code",
   "execution_count": 45,
   "metadata": {
    "id": "69EQnzkcgxtb"
   },
   "outputs": [],
   "source": [
    "class G1(DatasetGenerator):\n",
    "    def refresh(self):\n",
    "        self.x = st.uniform().rvs((self.N,2))\n",
    "        self.v = st.uniform().rvs((self.N,))"
   ]
  },
  {
   "cell_type": "code",
   "execution_count": 46,
   "metadata": {
    "id": "NEPDqCflgzWe"
   },
   "outputs": [],
   "source": [
    "class G2(DatasetGenerator):\n",
    "    def refresh(self):\n",
    "        self.x = st.uniform().rvs((self.N,2))\n",
    "        self.v = np.exp(st.norm(-0.85, 1.3).rvs((self.N,)))"
   ]
  },
  {
   "cell_type": "markdown",
   "metadata": {
    "id": "q_Kco86_fDPA"
   },
   "source": [
    "### Uniform distribution ($\\mathcal U([0,1])$) "
   ]
  },
  {
   "cell_type": "code",
   "execution_count": 47,
   "metadata": {
    "id": "gZmvCOWse-93"
   },
   "outputs": [],
   "source": [
    "g1 = G1()"
   ]
  },
  {
   "cell_type": "markdown",
   "metadata": {
    "id": "mQbhQdsEif96"
   },
   "source": [
    "Examples:"
   ]
  },
  {
   "cell_type": "code",
   "execution_count": 48,
   "metadata": {
    "colab": {
     "base_uri": "https://localhost:8080/",
     "height": 265
    },
    "id": "zXOZp0KUiO5P",
    "outputId": "6447f237-cd07-4c8f-84c8-a5af51e03698"
   },
   "outputs": [
    {
     "data": {
      "image/png": "[encoded data removed]",
      "text/plain": [
       "<Figure size 432x288 with 1 Axes>"
      ]
     },
     "metadata": {
      "needs_background": "light"
     },
     "output_type": "display_data"
    }
   ],
   "source": [
    "# Plot a histogram of the v array\n",
    "plt.hist(g1.v, bins=30)\n",
    "plt.show()"
   ]
  },
  {
   "cell_type": "code",
   "execution_count": 49,
   "metadata": {
    "colab": {
     "base_uri": "https://localhost:8080/",
     "height": 320
    },
    "id": "GMHuTtiIii5H",
    "outputId": "f5ff204f-7e45-4f3b-ed0c-5e18cb4a5e52"
   },
   "outputs": [
    {
     "data": {
      "image/png": "[encoded data removed]",
      "text/plain": [
       "<Figure size 360x360 with 1 Axes>"
      ]
     },
     "metadata": {
      "needs_background": "light"
     },
     "output_type": "display_data"
    }
   ],
   "source": [
    "# plot the position of the points\n",
    "plt.figure(figsize=(5,5))\n",
    "plt.scatter(g1.x[:,0], g1.x[:,1])\n",
    "plt.show()"
   ]
  },
  {
   "cell_type": "markdown",
   "metadata": {
    "id": "CCmeQMcZiuGX"
   },
   "source": [
    "You can refresh the dataset"
   ]
  },
  {
   "cell_type": "code",
   "execution_count": 50,
   "metadata": {
    "id": "X5zibI5Rix7r"
   },
   "outputs": [],
   "source": [
    "g1.refresh() # generate a new dataset"
   ]
  },
  {
   "cell_type": "code",
   "execution_count": 51,
   "metadata": {
    "colab": {
     "base_uri": "https://localhost:8080/",
     "height": 265
    },
    "id": "jwCwLEgEixrE",
    "outputId": "8b0be7af-9771-417c-d22f-9ae719404ee6"
   },
   "outputs": [
    {
     "data": {
      "image/png": "[encoded data removed]",
      "text/plain": [
       "<Figure size 432x288 with 1 Axes>"
      ]
     },
     "metadata": {
      "needs_background": "light"
     },
     "output_type": "display_data"
    }
   ],
   "source": [
    "plt.hist(g1.v, bins=30)\n",
    "plt.show()"
   ]
  },
  {
   "cell_type": "markdown",
   "metadata": {
    "id": "Ka6haqFplqaU"
   },
   "source": [
    "Or for instance, you can generate 10 instances and compute the average position of all the points:"
   ]
  },
  {
   "cell_type": "code",
   "execution_count": 52,
   "metadata": {
    "colab": {
     "base_uri": "https://localhost:8080/"
    },
    "id": "ZB9knwmOlvVP",
    "outputId": "28aecbc3-d2d8-4126-b104-6b12238d8974"
   },
   "outputs": [
    {
     "name": "stdout",
     "output_type": "stream",
     "text": [
      "[0.50348184 0.50348184]\n"
     ]
    }
   ],
   "source": [
    "m = np.array([0., 0.])\n",
    "\n",
    "for _ in range(10):\n",
    "    g1.refresh() # refresh the dataset\n",
    "    m  += 0.1*g1.x.mean()\n",
    "\n",
    "print(m)"
   ]
  },
  {
   "cell_type": "markdown",
   "metadata": {
    "id": "JgzoeYOafZSM"
   },
   "source": [
    "### Test on log-normal distribution"
   ]
  },
  {
   "cell_type": "code",
   "execution_count": 53,
   "metadata": {
    "id": "nszpfgZkfROG"
   },
   "outputs": [],
   "source": [
    "g2 = G2()"
   ]
  },
  {
   "cell_type": "markdown",
   "metadata": {
    "id": "k-CfVPQpjRu9"
   },
   "source": [
    "Example:\n",
    "\n",
    "you can use g2 to generate an instance of the lognormal distribution"
   ]
  },
  {
   "cell_type": "code",
   "execution_count": 54,
   "metadata": {
    "colab": {
     "base_uri": "https://localhost:8080/",
     "height": 265
    },
    "id": "brEhSUl2i6LC",
    "outputId": "43a129cd-78db-4bef-9980-21758dd8b9b8"
   },
   "outputs": [
    {
     "data": {
      "image/png": "[encoded data removed]",
      "text/plain": [
       "<Figure size 432x288 with 1 Axes>"
      ]
     },
     "metadata": {
      "needs_background": "light"
     },
     "output_type": "display_data"
    }
   ],
   "source": [
    "plt.hist(g2.v, bins=30)\n",
    "plt.show()"
   ]
  },
  {
   "cell_type": "code",
   "execution_count": 55,
   "metadata": {
    "id": "QQ5rVZDxjXKA"
   },
   "outputs": [],
   "source": [
    "g2.refresh() # to generate a new x and v"
   ]
  },
  {
   "cell_type": "code",
   "execution_count": 56,
   "metadata": {
    "colab": {
     "base_uri": "https://localhost:8080/",
     "height": 265
    },
    "id": "F44feKJokJS2",
    "outputId": "499c5cd5-d2cf-4871-f608-54212dbcb122"
   },
   "outputs": [
    {
     "data": {
      "image/png": "[encoded data removed]",
      "text/plain": [
       "<Figure size 432x288 with 1 Axes>"
      ]
     },
     "metadata": {
      "needs_background": "light"
     },
     "output_type": "display_data"
    }
   ],
   "source": [
    "plt.hist(g2.v, bins=30)\n",
    "plt.show()"
   ]
  },
  {
   "cell_type": "markdown",
   "metadata": {
    "id": "UrAwB81ykRCM"
   },
   "source": [
    "---"
   ]
  },
  {
   "cell_type": "markdown",
   "metadata": {
    "id": "GeH_E-MGjHvd"
   },
   "source": [
    "### Metropolis Hastings"
   ]
  },
  {
   "cell_type": "code",
   "execution_count": 57,
   "metadata": {
    "id": "sbZXvBgti6_C"
   },
   "outputs": [],
   "source": [
    "# fill-in this section with your code"
   ]
  },
  {
   "cell_type": "code",
   "execution_count": 133,
   "metadata": {},
   "outputs": [],
   "source": [
    "def max_squared_dist(points):\n",
    "    p1 = np.repeat(points, len(points), axis = 0).reshape((len(points), len(points), 2), order = \"F\")\n",
    "    p2 = np.repeat(points, len(points), axis = 0).reshape((len(points), len(points), 2), order = \"C\")\n",
    "    return np.max(np.sum(np.square(p1 - p2), axis = 2))\n",
    "\n",
    "def f(_lambda, x, v):\n",
    "    return np.sum(v) - _lambda * len(v) * np.pi * max_squared_dist(x) / 4"
   ]
  },
  {
   "cell_type": "code",
   "execution_count": 123,
   "metadata": {},
   "outputs": [
    {
     "name": "stdout",
     "output_type": "stream",
     "text": [
      "200\n",
      "Wall time: 2.99 ms\n"
     ]
    }
   ],
   "source": [
    "%%time\n",
    "#SpeedTest\n",
    "n1 = 11\n",
    "n2 = 11\n",
    "row, col = np.indices((n1, n2))\n",
    "points = np.dstack([row, col]).flatten().reshape(n1 * n2, 2)\n",
    "print(max_squared_dist(points))"
   ]
  },
  {
   "cell_type": "code",
   "execution_count": 254,
   "metadata": {},
   "outputs": [],
   "source": [
    "def Metropolis_Hasting_step(selection, scores, data, remove_duplicates = True):\n",
    "    ind = np.random.randint(0,data.N, len(selection))\n",
    "    for i in range(len(selection)):\n",
    "        mask = np.zeros(data.N, dtype = \"bool\")\n",
    "        mask[ind[i]] = True\n",
    "        proposal = selection[i] ^ mask\n",
    "        if (np.sum(proposal) > 0):\n",
    "            old_score = scores[i]\n",
    "            score = f(_lambda, data.x[proposal], data.v[proposal])\n",
    "            if score > old_score :\n",
    "                scores[i] = score\n",
    "                selection[i] = proposal\n",
    "    if remove_duplicates:\n",
    "        selection, ids = np.unique(selection, return_index = True, axis = 0)\n",
    "        scores = scores[ids]\n",
    "    return selection, scores"
   ]
  },
  {
   "cell_type": "code",
   "execution_count": 255,
   "metadata": {},
   "outputs": [],
   "source": [
    "def could_accept_a_move(selection_line, score, data):\n",
    "    mask = np.zeros(data.N, dtype = \"bool\")\n",
    "    for i in range(data.N):\n",
    "        mask[i] = True\n",
    "        proposal = selection_line ^ mask\n",
    "        if (np.sum(proposal) > 0):\n",
    "            new_score = f(_lambda, data.x[proposal], data.v[proposal])\n",
    "            if new_score > score :\n",
    "                return True\n",
    "        mask[i] = False"
   ]
  },
  {
   "cell_type": "code",
   "execution_count": 252,
   "metadata": {},
   "outputs": [],
   "source": [
    "def filter_selection(selection, scores, data):\n",
    "    useless_lines = []\n",
    "    best_score = np.max(scores)\n",
    "    for i in range(len(selection)):\n",
    "        is_best = (scores[i] == best_score)\n",
    "        if not (could_accept_a_move(selection[i], scores[i], data) or is_best):\n",
    "            useless_lines.append(i)\n",
    "    selection = np.delete(selection, useless_lines, axis = 0)\n",
    "    scores = np.delete(scores, useless_lines, axis = 0)\n",
    "    return selection, scores"
   ]
  },
  {
   "cell_type": "code",
   "execution_count": 191,
   "metadata": {},
   "outputs": [],
   "source": [
    "_lambda = 1"
   ]
  },
  {
   "cell_type": "code",
   "execution_count": 281,
   "metadata": {},
   "outputs": [],
   "source": [
    "g = g2"
   ]
  },
  {
   "cell_type": "code",
   "execution_count": 287,
   "metadata": {},
   "outputs": [],
   "source": [
    "selection = np.identity(g.N, dtype = \"bool\")\n",
    "scores = np.array([f(_lambda, g.x[selection[i]], g.v[selection[i]]) for i in range(len(selection))])"
   ]
  },
  {
   "cell_type": "code",
   "execution_count": 288,
   "metadata": {},
   "outputs": [
    {
     "name": "stdout",
     "output_type": "stream",
     "text": [
      "Score : 26.675812734522474\n",
      "Number of cities : 29\n",
      "Batch size : 1\n",
      "Wall time: 3.08 s\n"
     ]
    }
   ],
   "source": [
    "%%time\n",
    "for i in range(500):\n",
    "    selection, scores = Metropolis_Hasting_step(selection, scores, g)\n",
    "selection, scores = filter_selection(selection, scores, g)\n",
    "print(\"Score : {}\".format(np.max(scores)))\n",
    "print(\"Number of cities : {}\".format(np.sum(selection[np.argmax(scores)])))\n",
    "print(\"Batch size : {}\".format(len(scores.shape)))"
   ]
  },
  {
   "cell_type": "code",
   "execution_count": null,
   "metadata": {},
   "outputs": [],
   "source": [
    "#may change due to randomness of g1\n",
    "#best : 10.072097862781835 with g1 lambda 1 \n",
    "#best : 26.675812734522474 with g2 lambda 1"
   ]
  },
  {
   "cell_type": "code",
   "execution_count": null,
   "metadata": {},
   "outputs": [],
   "source": []
  }
 ],
 "metadata": {
  "colab": {
   "authorship_tag": "ABX9TyMHjD1LWevMEBRvKxj7qq4T",
   "collapsed_sections": [],
   "include_colab_link": true,
   "name": "model.ipynb",
   "provenance": []
  },
  "kernelspec": {
   "display_name": "Python 3",
   "language": "python",
   "name": "python3"
  },
  "language_info": {
   "codemirror_mode": {
    "name": "ipython",
    "version": 3
   },
   "file_extension": ".py",
   "mimetype": "text/x-python",
   "name": "python",
   "nbconvert_exporter": "python",
   "pygments_lexer": "ipython3",
   "version": "3.8.3"
  }
 },
 "nbformat": 4,
 "nbformat_minor": 4
}
