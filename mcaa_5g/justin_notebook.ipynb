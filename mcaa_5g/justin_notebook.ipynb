{
 "cells": [
  {
   "cell_type": "markdown",
   "metadata": {},
   "source": [
    "# Justin's notebook"
   ]
  },
  {
   "cell_type": "markdown",
   "metadata": {},
   "source": [
    "## Computing iteratively the max distance between cities"
   ]
  },
  {
   "cell_type": "markdown",
   "metadata": {},
   "source": [
    "The state is represented by the vector $\\underline{x} := (x_1, x_2, ..., x_n) $, where $x_i \\in \\{0, 1\\}$. If $x_i = 1$, it means that city $v_i$ is in our current set $\\mathcal{S}$.\n",
    "\n",
    "The Metropolis-Hasting chain evolves by adding or removing cities by proposing moves that flips exactly one entry of the state.\n",
    "\n",
    "Computing the minimal distance in the set of cities $\\mathcal{S}_{\\underline{x}}$ associated with state $\\underline{x}$ naively is not an option. Indeed, there are $2^n$ states and for each of them it would have a $\\mathcal{O}(|\\mathcal{S}_{\\underline{x}}|)$ complexity.\n",
    "\n",
    "The solution is to proceed iteratively. Starting from $\\mathcal{S}_{\\underline{0}} = (0, 0, ..., 0)$, we know that there are no elements in it, so the minial distance is zero.\n",
    "\n",
    "Assume now that we are at a state, if we add a new city, it can be either in the circle, or outside. If it is inside, the distance does not increase, otherwise, the radius is the max of the distance of the new point to the two \"border\" points (can prove using Triangle inequality I guess). If we remove a state, we either remove an inner points (min distance does not decrease), or one of the two border points. In that case, we can again show that the other border point stays a border point (by contradiction) and we just have to compute the distance with respect to all other remaining points, which is done in $\\mathcal{O}(n)$ complexity. \n",
    "\n",
    "This way, I think we can simulate the chain, and compute acceptances probabilities on the go (i. e. during simulation) and simulate easily the chain. \n",
    "\n",
    "The remaining issue, is how to tune the $\\beta$ parameter of the Ising distribution, for that we may need to lookup on internet and try some things."
   ]
  }
 ],
 "metadata": {
  "kernelspec": {
   "display_name": "Python 3",
   "language": "python",
   "name": "python3"
  },
  "language_info": {
   "codemirror_mode": {
    "name": "ipython",
    "version": 3
   },
   "file_extension": ".py",
   "mimetype": "text/x-python",
   "name": "python",
   "nbconvert_exporter": "python",
   "pygments_lexer": "ipython3",
   "version": "3.8.3"
  }
 },
 "nbformat": 4,
 "nbformat_minor": 4
}
