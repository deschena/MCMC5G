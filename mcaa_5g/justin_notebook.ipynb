{
 "cells": [
  {
   "cell_type": "code",
   "execution_count": 2,
   "metadata": {},
   "outputs": [],
   "source": [
    "import scipy.stats as st\n",
    "import numpy as np\n",
    "import scipy as sp\n",
    "import matplotlib.pyplot as plt"
   ]
  },
  {
   "cell_type": "code",
   "execution_count": 3,
   "metadata": {},
   "outputs": [],
   "source": [
    "np.random.seed(36)"
   ]
  },
  {
   "cell_type": "code",
   "execution_count": 4,
   "metadata": {},
   "outputs": [],
   "source": [
    "class DatasetGenerator(object):\n",
    "    def __init__(self, N=100):\n",
    "        self.N = N\n",
    "        self.x = None\n",
    "        self.v = None\n",
    "        self.refresh()\n",
    "  \n",
    "    def refresh(self):\n",
    "        raise Exception(\"undefined\")"
   ]
  },
  {
   "cell_type": "code",
   "execution_count": 5,
   "metadata": {},
   "outputs": [],
   "source": [
    "class G1(DatasetGenerator):\n",
    "    def refresh(self):\n",
    "        self.x = st.uniform().rvs((self.N,2))\n",
    "        self.v = st.uniform().rvs((self.N,))"
   ]
  },
  {
   "cell_type": "code",
   "execution_count": 6,
   "metadata": {},
   "outputs": [],
   "source": [
    "class G2(DatasetGenerator):\n",
    "    def refresh(self):\n",
    "        self.x = st.uniform().rvs((self.N,2))\n",
    "        self.v = np.exp(st.norm(-0.85, 1.3).rvs((self.N,)))"
   ]
  },
  {
   "cell_type": "markdown",
   "metadata": {},
   "source": [
    "# Justin's notebook"
   ]
  },
  {
   "cell_type": "markdown",
   "metadata": {},
   "source": [
    "## Computing iteratively the max distance between cities"
   ]
  },
  {
   "cell_type": "markdown",
   "metadata": {},
   "source": [
    "The state is represented by the vector $\\underline{x} := (x_1, x_2, ..., x_n) $, where $x_i \\in \\{0, 1\\}$. If $x_i = 1$, it means that city $v_i$ is in our current set $\\mathcal{S}$.\n",
    "\n",
    "The Metropolis-Hasting chain evolves by adding or removing cities by proposing moves that flips exactly one entry of the state.\n",
    "\n",
    "Computing the minimal distance in the set of cities $\\mathcal{S}_{\\underline{x}}$ associated with state $\\underline{x}$ naively is not an option. Indeed, there are $2^n$ states and for each of them it would have a $\\mathcal{O}(|\\mathcal{S}_{\\underline{x}}|)$ complexity.\n",
    "\n",
    "The solution is to proceed iteratively. Starting from $\\mathcal{S}_{\\underline{0}} = (0, 0, ..., 0)$, we know that there are no elements in it, so the minial distance is zero.\n",
    "\n",
    "Assume now that we are at a state, if we add a new city, it can be either in the circle, or outside. If it is inside, the distance does not increase, otherwise, the radius is the max of the distance of the new point to the two \"border\" points (can prove using Triangle inequality I guess). If we remove a state, we either remove an inner points (min distance does not decrease), or one of the two border points. In that case, we can again show that the other border point stays a border point (by contradiction) and we just have to compute the distance with respect to all other remaining points, which is done in $\\mathcal{O}(n)$ complexity. \n",
    "\n",
    "This way, I think we can simulate the chain, and compute acceptances probabilities on the go (i. e. during simulation) and simulate easily the chain. \n",
    "\n",
    "The remaining issue, is how to tune the $\\beta$ parameter of the Ising distribution, for that we may need to lookup on internet and try some things."
   ]
  },
  {
   "cell_type": "code",
   "execution_count": 7,
   "metadata": {},
   "outputs": [],
   "source": [
    "def max_squared_dist(points):\n",
    "    p1 = np.repeat(points, len(points), axis = 0).reshape((len(points), len(points), 2), order = \"F\")\n",
    "    p2 = np.repeat(points, len(points), axis = 0).reshape((len(points), len(points), 2), order = \"C\")\n",
    "    return np.max(np.sum(np.square(p1 - p2), axis = 2))\n",
    "\n",
    "def f(_lambda, x, v):\n",
    "    return np.sum(v) - _lambda * len(v) * np.pi * max_squared_dist(x) / 4"
   ]
  },
  {
   "cell_type": "code",
   "execution_count": 8,
   "metadata": {},
   "outputs": [],
   "source": [
    "def max_squared_dist2(points):\n",
    "    N = len(points)\n",
    "    p1 = points.reshape(1, N, 2)\n",
    "    p2 = points.reshape(N, 1, 2)\n",
    "    return np.max(np.sum(np.square(p1 - p2), axis = 2))"
   ]
  },
  {
   "cell_type": "code",
   "execution_count": 24,
   "metadata": {},
   "outputs": [
    {
     "name": "stdout",
     "output_type": "stream",
     "text": [
      "6962\n",
      "6962\n"
     ]
    }
   ],
   "source": [
    "a = np.random.randint(-30, 30, size=(5000, 2))\n",
    "print(max_squared_dist(a))\n",
    "print(max_squared_dist2(a))"
   ]
  },
  {
   "cell_type": "code",
   "execution_count": 25,
   "metadata": {},
   "outputs": [
    {
     "name": "stdout",
     "output_type": "stream",
     "text": [
      "3.97 s ± 891 ms per loop (mean ± std. dev. of 7 runs, 1 loop each)\n"
     ]
    }
   ],
   "source": [
    "%%timeit\n",
    "max_squared_dist(a)"
   ]
  },
  {
   "cell_type": "code",
   "execution_count": 26,
   "metadata": {},
   "outputs": [
    {
     "name": "stdout",
     "output_type": "stream",
     "text": [
      "1.22 s ± 57.4 ms per loop (mean ± std. dev. of 7 runs, 1 loop each)\n"
     ]
    }
   ],
   "source": [
    "%%timeit\n",
    "max_squared_dist2(a)"
   ]
  },
  {
   "cell_type": "code",
   "execution_count": null,
   "metadata": {},
   "outputs": [],
   "source": []
  }
 ],
 "metadata": {
  "kernelspec": {
   "display_name": "Python 3",
   "language": "python",
   "name": "python3"
  },
  "language_info": {
   "codemirror_mode": {
    "name": "ipython",
    "version": 3
   },
   "file_extension": ".py",
   "mimetype": "text/x-python",
   "name": "python",
   "nbconvert_exporter": "python",
   "pygments_lexer": "ipython3",
   "version": "3.7.9"
  }
 },
 "nbformat": 4,
 "nbformat_minor": 4
}
