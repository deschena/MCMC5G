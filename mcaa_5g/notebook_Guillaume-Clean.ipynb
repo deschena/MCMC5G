{
 "cells": [
  {
   "cell_type": "markdown",
   "metadata": {
    "colab_type": "text",
    "id": "view-in-github"
   },
   "source": [
    "<a href=\"https://colab.research.google.com/github/antoinexp/markov-chains-COM-516/blob/main/model.ipynb\" target=\"_parent\"><img src=\"https://colab.research.google.com/assets/colab-badge.svg\" alt=\"Open In Colab\"/></a>"
   ]
  },
  {
   "cell_type": "markdown",
   "metadata": {
    "id": "mCc-m9oEkOGy"
   },
   "source": [
    "This notebook is provided as a starting point to help you generate random instances G1 and G2 as mentioned in the handout.\n",
    "\n",
    "You are free to use and modify it at your own convenience.\n",
    "\n",
    "---\n",
    "\n"
   ]
  },
  {
   "cell_type": "code",
   "execution_count": 1,
   "metadata": {
    "id": "BMV_GyHTe-A5"
   },
   "outputs": [],
   "source": [
    "import scipy.stats as st\n",
    "import numpy as np\n",
    "import scipy as sp\n",
    "import matplotlib.pyplot as plt"
   ]
  },
  {
   "cell_type": "code",
   "execution_count": 2,
   "metadata": {},
   "outputs": [],
   "source": [
    "np.random.seed(36)"
   ]
  },
  {
   "cell_type": "code",
   "execution_count": 3,
   "metadata": {
    "id": "9_4LNOEAfb6H"
   },
   "outputs": [],
   "source": [
    "class DatasetGenerator(object):\n",
    "    def __init__(self, N=100):\n",
    "        self.N = N\n",
    "        self.x = None\n",
    "        self.v = None\n",
    "        self.refresh()\n",
    "  \n",
    "    def refresh(self):\n",
    "        raise Exception(\"undefined\")"
   ]
  },
  {
   "cell_type": "code",
   "execution_count": 4,
   "metadata": {
    "id": "69EQnzkcgxtb"
   },
   "outputs": [],
   "source": [
    "class G1(DatasetGenerator):\n",
    "    def refresh(self):\n",
    "        self.x = st.uniform().rvs((self.N,2))\n",
    "        self.v = st.uniform().rvs((self.N,))"
   ]
  },
  {
   "cell_type": "code",
   "execution_count": 5,
   "metadata": {
    "id": "NEPDqCflgzWe"
   },
   "outputs": [],
   "source": [
    "class G2(DatasetGenerator):\n",
    "    def refresh(self):\n",
    "        self.x = st.uniform().rvs((self.N,2))\n",
    "        self.v = np.exp(st.norm(-0.85, 1.3).rvs((self.N,)))"
   ]
  },
  {
   "cell_type": "markdown",
   "metadata": {
    "id": "q_Kco86_fDPA"
   },
   "source": [
    "### Uniform distribution ($\\mathcal U([0,1])$) "
   ]
  },
  {
   "cell_type": "code",
   "execution_count": 6,
   "metadata": {
    "id": "gZmvCOWse-93"
   },
   "outputs": [],
   "source": [
    "g1 = G1()"
   ]
  },
  {
   "cell_type": "markdown",
   "metadata": {
    "id": "mQbhQdsEif96"
   },
   "source": [
    "Examples:"
   ]
  },
  {
   "cell_type": "code",
   "execution_count": 7,
   "metadata": {
    "colab": {
     "base_uri": "https://localhost:8080/",
     "height": 265
    },
    "id": "zXOZp0KUiO5P",
    "outputId": "6447f237-cd07-4c8f-84c8-a5af51e03698"
   },
   "outputs": [
    {
     "data": {
      "image/png": "[encoded data removed]",
      "text/plain": [
       "<Figure size 432x288 with 1 Axes>"
      ]
     },
     "metadata": {
      "needs_background": "light"
     },
     "output_type": "display_data"
    }
   ],
   "source": [
    "# Plot a histogram of the v array\n",
    "plt.hist(g1.v, bins=30)\n",
    "plt.show()"
   ]
  },
  {
   "cell_type": "code",
   "execution_count": 8,
   "metadata": {
    "colab": {
     "base_uri": "https://localhost:8080/",
     "height": 320
    },
    "id": "GMHuTtiIii5H",
    "outputId": "f5ff204f-7e45-4f3b-ed0c-5e18cb4a5e52"
   },
   "outputs": [
    {
     "data": {
      "image/png": "[encoded data removed]",
      "text/plain": [
       "<Figure size 360x360 with 1 Axes>"
      ]
     },
     "metadata": {
      "needs_background": "light"
     },
     "output_type": "display_data"
    }
   ],
   "source": [
    "# plot the position of the points\n",
    "plt.figure(figsize=(5,5))\n",
    "plt.scatter(g1.x[:,0], g1.x[:,1])\n",
    "plt.show()"
   ]
  },
  {
   "cell_type": "markdown",
   "metadata": {
    "id": "CCmeQMcZiuGX"
   },
   "source": [
    "You can refresh the dataset"
   ]
  },
  {
   "cell_type": "code",
   "execution_count": 9,
   "metadata": {
    "id": "X5zibI5Rix7r"
   },
   "outputs": [],
   "source": [
    "g1.refresh() # generate a new dataset"
   ]
  },
  {
   "cell_type": "code",
   "execution_count": 10,
   "metadata": {
    "colab": {
     "base_uri": "https://localhost:8080/",
     "height": 265
    },
    "id": "jwCwLEgEixrE",
    "outputId": "8b0be7af-9771-417c-d22f-9ae719404ee6"
   },
   "outputs": [
    {
     "data": {
      "image/png": "[encoded data removed]",
      "text/plain": [
       "<Figure size 432x288 with 1 Axes>"
      ]
     },
     "metadata": {
      "needs_background": "light"
     },
     "output_type": "display_data"
    }
   ],
   "source": [
    "plt.hist(g1.v, bins=30)\n",
    "plt.show()"
   ]
  },
  {
   "cell_type": "markdown",
   "metadata": {
    "id": "Ka6haqFplqaU"
   },
   "source": [
    "Or for instance, you can generate 10 instances and compute the average position of all the points:"
   ]
  },
  {
   "cell_type": "code",
   "execution_count": 11,
   "metadata": {
    "colab": {
     "base_uri": "https://localhost:8080/"
    },
    "id": "ZB9knwmOlvVP",
    "outputId": "28aecbc3-d2d8-4126-b104-6b12238d8974"
   },
   "outputs": [
    {
     "name": "stdout",
     "output_type": "stream",
     "text": [
      "[0.50442458 0.50442458]\n"
     ]
    }
   ],
   "source": [
    "m = np.array([0., 0.])\n",
    "\n",
    "for _ in range(10):\n",
    "    g1.refresh() # refresh the dataset\n",
    "    m  += 0.1*g1.x.mean()\n",
    "\n",
    "print(m)"
   ]
  },
  {
   "cell_type": "markdown",
   "metadata": {
    "id": "JgzoeYOafZSM"
   },
   "source": [
    "### Test on log-normal distribution"
   ]
  },
  {
   "cell_type": "code",
   "execution_count": 12,
   "metadata": {
    "id": "nszpfgZkfROG"
   },
   "outputs": [],
   "source": [
    "g2 = G2()"
   ]
  },
  {
   "cell_type": "markdown",
   "metadata": {
    "id": "k-CfVPQpjRu9"
   },
   "source": [
    "Example:\n",
    "\n",
    "you can use g2 to generate an instance of the lognormal distribution"
   ]
  },
  {
   "cell_type": "code",
   "execution_count": 13,
   "metadata": {
    "colab": {
     "base_uri": "https://localhost:8080/",
     "height": 265
    },
    "id": "brEhSUl2i6LC",
    "outputId": "43a129cd-78db-4bef-9980-21758dd8b9b8"
   },
   "outputs": [
    {
     "data": {
      "image/png": "[encoded data removed]",
      "text/plain": [
       "<Figure size 432x288 with 1 Axes>"
      ]
     },
     "metadata": {
      "needs_background": "light"
     },
     "output_type": "display_data"
    }
   ],
   "source": [
    "plt.hist(g2.v, bins=30)\n",
    "plt.show()"
   ]
  },
  {
   "cell_type": "code",
   "execution_count": 14,
   "metadata": {
    "id": "QQ5rVZDxjXKA"
   },
   "outputs": [],
   "source": [
    "g2.refresh() # to generate a new x and v"
   ]
  },
  {
   "cell_type": "code",
   "execution_count": 15,
   "metadata": {
    "colab": {
     "base_uri": "https://localhost:8080/",
     "height": 265
    },
    "id": "F44feKJokJS2",
    "outputId": "499c5cd5-d2cf-4871-f608-54212dbcb122"
   },
   "outputs": [
    {
     "data": {
      "image/png": "[encoded data removed]",
      "text/plain": [
       "<Figure size 432x288 with 1 Axes>"
      ]
     },
     "metadata": {
      "needs_background": "light"
     },
     "output_type": "display_data"
    }
   ],
   "source": [
    "plt.hist(g2.v, bins=30)\n",
    "plt.show()"
   ]
  },
  {
   "cell_type": "markdown",
   "metadata": {
    "id": "UrAwB81ykRCM"
   },
   "source": [
    "---"
   ]
  },
  {
   "cell_type": "markdown",
   "metadata": {
    "id": "GeH_E-MGjHvd"
   },
   "source": [
    "### Metropolis Hastings"
   ]
  },
  {
   "cell_type": "code",
   "execution_count": 16,
   "metadata": {
    "id": "sbZXvBgti6_C"
   },
   "outputs": [],
   "source": [
    "# fill-in this section with your code"
   ]
  },
  {
   "cell_type": "code",
   "execution_count": 17,
   "metadata": {},
   "outputs": [],
   "source": [
    "def compute_distance_matrix(points):\n",
    "    '''\n",
    "    Returns the matrix of pairwise squared distances between the given points.\n",
    "\n",
    "            Parameters:\n",
    "                    points (matrix (N, 2)): An array of 2d points\n",
    "\n",
    "            Returns:\n",
    "                    pairwise_distances (matrix (N, N)): The matrix of pairwise distances\n",
    "    '''\n",
    "    N = len(points)\n",
    "    p1 = points.reshape(1, N, 2)\n",
    "    p2 = points.reshape(N, 1, 2)\n",
    "    return np.sum(np.square(p1 - p2), axis=2)"
   ]
  },
  {
   "cell_type": "code",
   "execution_count": 18,
   "metadata": {},
   "outputs": [],
   "source": [
    "def f(data, _lambda, selected_cities, cache):\n",
    "    '''\n",
    "    Evaluate the function for the selected cities\n",
    "            \n",
    "            Parameters:\n",
    "                    data (DatasetGenerator): The cities dataset\n",
    "                    _lambda (float): The lambda parameter\n",
    "                    selected_cities (array (N,)): The cities that are in the subset\n",
    "                    cache (matrix (N, N)): The matrix of pairwise distances\n",
    "\n",
    "            Returns:\n",
    "                    The output of the function (float): The output of the function for the given cities\n",
    "    '''\n",
    "    sel = selected_cities.reshape((data.N, 1)) @ selected_cities.reshape((1, data.N))\n",
    "    max_squared_dist = np.max(cache[sel])\n",
    "    return np.sum(data.v[selected_cities]) - _lambda * data.N * np.pi * max_squared_dist / 4"
   ]
  },
  {
   "cell_type": "code",
   "execution_count": 19,
   "metadata": {},
   "outputs": [],
   "source": [
    "def Metropolis_Hasting_step(data, _lambda, cache, selection, scores, remove_duplicates=True, tol=0):\n",
    "    '''\n",
    "    Perform one iteration of the Metropolis-Hastings algorithm\n",
    "            \n",
    "            Parameters:\n",
    "                    data (DatasetGenerator): The cities dataset\n",
    "                    _lambda (float): The lambda parameter\n",
    "                    cache (matrix (N, N)): The matrix of pairwise distances\n",
    "                    selection (matrix (batch_size, N)): The selected cities for all the chains\n",
    "                    scores (array (batch_size,)): The scores\n",
    "                    remove_duplicates (bool) : Merge the chains that are in the same state (Default : True)\n",
    "                    tol (float): The tolerance to accept a move (Default : 0)\n",
    "\n",
    "            Returns:\n",
    "                    The output of the function (float): The output of the function for the given cities\n",
    "    '''\n",
    "    batch_size = len(selection)\n",
    "    #Generate random moves for all the chains\n",
    "    ind = np.random.randint(0,data.N, batch_size)\n",
    "    #Convert values to a one-hot encoding\n",
    "    mask = np.zeros((batch_size, data.N))\n",
    "    mask[np.arange(batch_size), ind] = 1\n",
    "    #cast the matrix to boolean\n",
    "    mask = np.array(mask, dtype = \"bool\")\n",
    "    #create all the proposal moves\n",
    "    proposal = selection ^ mask\n",
    "    #iterate over all chains\n",
    "    for i in range(len(selection)):\n",
    "        #get the proposal for the current chain\n",
    "        prop = proposal[i]\n",
    "        #if at least one city is selected\n",
    "        if (np.sum(prop) > 0):\n",
    "            #get the old score\n",
    "            old_score = scores[i]\n",
    "            #compute the new score\n",
    "            score = f(data, _lambda, prop, cache)\n",
    "            #if the move is accepted\n",
    "            if score >= old_score - tol :\n",
    "                #update the score and the selection\n",
    "                scores[i] = score\n",
    "                selection[i] = prop\n",
    "    if remove_duplicates:\n",
    "        #remove the duplicate chains and the associated scores\n",
    "        selection, ids = np.unique(selection, return_index=True, axis=0)\n",
    "        scores = scores[ids]    \n",
    "    return selection, scores"
   ]
  },
  {
   "cell_type": "code",
   "execution_count": 20,
   "metadata": {},
   "outputs": [],
   "source": [
    "def is_local_max(data, _lambda, cache, selection_line, score, tol=0):\n",
    "    '''\n",
    "    Check whether the chain is at a local maximum or not\n",
    "    This function is quite slow\n",
    "            \n",
    "            Parameters:\n",
    "                    data (DatasetGenerator): The cities dataset\n",
    "                    _lambda (float): The lambda parameter\n",
    "                    cache (matrix (N, N)): The matrix of pairwise distances\n",
    "                    selection_line (array (N,)): The selected cities\n",
    "                    scores (float): The current score\n",
    "                    tol (float): The tolerance to accept a move (Default : 0)\n",
    "\n",
    "            Returns:\n",
    "                    new_selection (matrix (<batch_size, N)): The reduced selection matrix\n",
    "                    new_scores (array (<batch_size,)): The reduced scores\n",
    "    '''\n",
    "    #allocate a mask\n",
    "    mask = np.zeros(data.N, dtype=\"bool\")\n",
    "    #iterate all the cities\n",
    "    for i in range(data.N):\n",
    "        #generate a proposal\n",
    "        mask[i] = True\n",
    "        proposal = selection_line ^ mask\n",
    "        #if at least one city is selected\n",
    "        if (np.sum(proposal) > 0):\n",
    "            #compute the new_score\n",
    "            new_score = f(data, _lambda, proposal, cache)\n",
    "            #if improvement is possible, it is not a local maximum\n",
    "            if new_score >= score - tol:\n",
    "                return False\n",
    "        #clear the mask\n",
    "        mask[i] = False\n",
    "    #if we did not return yet, it is a local maximum\n",
    "    return True"
   ]
  },
  {
   "cell_type": "code",
   "execution_count": 21,
   "metadata": {},
   "outputs": [],
   "source": [
    "def remove_local_max(data, _lambda, cache, selection, scores, tol=0):\n",
    "    '''\n",
    "    Remove the chains that are in a local maximums and would reject all moves, except the best one\n",
    "    This function is quite slow\n",
    "            \n",
    "            Parameters:\n",
    "                    data (DatasetGenerator): The cities dataset\n",
    "                    _lambda (float): The lambda parameter\n",
    "                    cache (matrix (N, N)): The matrix of pairwise distances\n",
    "                    selection (matrix (batch_size, N)): The selected cities for all the chains\n",
    "                    scores (array (batch_size,)): The scores\n",
    "                    tol (float): The tolerance to accept a move (Default : 0)\n",
    "\n",
    "            Returns:\n",
    "                    new_selection (matrix (<batch_size, N)): The reduced selection matrix\n",
    "                    new_scores (array (<batch_size,)): The reduced scores\n",
    "    '''\n",
    "    #keep track of the lines to remove\n",
    "    useless_lines = []\n",
    "    #get the indice of the best chain\n",
    "    best_chain = np.argmax(scores)\n",
    "    #iterate over all chains\n",
    "    for i in range(len(selection)):\n",
    "        #check whether the chain is stuck or not\n",
    "        is_useful = not is_local_max(data, _lambda, cache, selection[i], scores[i], data, tol=tol)\n",
    "        if not (is_useful or (i == best_chain)):\n",
    "            useless_lines.append(i)\n",
    "    #remove the useless lines\n",
    "    selection = np.delete(selection, useless_lines, axis=0)\n",
    "    scores = np.delete(scores, useless_lines, axis=0)\n",
    "    return selection, scores"
   ]
  },
  {
   "cell_type": "code",
   "execution_count": 22,
   "metadata": {},
   "outputs": [],
   "source": [
    "def drop_half(selection, scores):\n",
    "    '''\n",
    "    Drop all the chains whose score is strictly below the median\n",
    "            \n",
    "            Parameters:\n",
    "                    selection (matrix (batch_size, N)): The selected cities for all the chains\n",
    "                    scores (array (batch_size,)): The scores\n",
    "\n",
    "            Returns:\n",
    "                    new_selection (matrix (ceil(batch_size / 2), N)): The reduced selection matrix\n",
    "                    new_scores (array (ceil(batch_size / 2),)): The reduced scores\n",
    "    '''\n",
    "    #We keep at least one chain\n",
    "    if len(scores) <= 1 :\n",
    "        return selection, scores\n",
    "    else :\n",
    "        where = np.where(np.median(scores) <= scores)\n",
    "        return selection[where], scores[where]"
   ]
  },
  {
   "cell_type": "code",
   "execution_count": 23,
   "metadata": {},
   "outputs": [],
   "source": [
    "def Metropolis_Hasting(data, _lambda, cache=None, init_selection=None, plot=False, verbose_progress=False, display_result=False, batch_size=100, max_iter=1000, init_tol=0):\n",
    "    '''\n",
    "    Perform the Metropolis-Hastings algorithm\n",
    "            \n",
    "            Parameters:\n",
    "                    data (DatasetGenerator): The cities dataset\n",
    "                    _lambda (float): The lambda parameter\n",
    "                    cache (matrix (N,N)) : The pairwise squared distance matrix (will be computed if not given) (Default : None)\n",
    "                    init_selection (matrix (batch_size, N)): The starting points of the chains (Default : None, random sets containing a single city)\n",
    "                    plot (bool): Display the evolution of the best score and the best selection (Default : False)\n",
    "                    verbose_progress (bool): Print what the algorithm is doing\n",
    "                    display_result (bool): Print the results of the algorithm (Default : False)\n",
    "                    batch_size (int): The number of chains we emulate (Default : 100)\n",
    "                    max_iter (int): What is the number of M-H steps (Default : 1000) \n",
    "                    init_tol (float): The first value of the tolerance to accept a move (decreases over time and reaches 0 at 75% of max_iter) (Default : 0)\n",
    "\n",
    "            Returns:\n",
    "                    best_selection (array (N,)): The best state ever reached\n",
    "                    best_score (float): The best_score ever reached\n",
    "    '''\n",
    "    \n",
    "    #compute cache\n",
    "    if verbose_progress :\n",
    "            print(\"Computing the cache matrix...\", end=\"\\r\")\n",
    "    if cache is None:\n",
    "        cache = compute_distance_matrix(data.x)\n",
    "    \n",
    "    if verbose_progress :\n",
    "        print(\"Initializing...\", end=\"\\r\")\n",
    "    #initialize the selection\n",
    "    if init_selection is not None :\n",
    "        selection = init_selection\n",
    "    else :\n",
    "        #Generate random city numbers\n",
    "        ind = np.random.randint(0, data.N, batch_size)\n",
    "        #Convert values to a one-hot encoding\n",
    "        selection = np.zeros((batch_size, data.N))\n",
    "        selection[np.arange(batch_size), ind] = 1\n",
    "        #cast the matrix to boolean\n",
    "        selection = np.array(selection, dtype=\"bool\")\n",
    "    #initialize the score array\n",
    "    scores = np.array([f(data, _lambda, selection[i], cache) for i in range(len(selection))])\n",
    "    #the best score so far\n",
    "    best_score = np.max(scores)\n",
    "    #the best scores (over all chains) at each step\n",
    "    best_scores = []\n",
    "    #the iteration when the overall best was reached\n",
    "    time_best_reached = 0\n",
    "    #the best combination of cities\n",
    "    best_selection = selection[np.argmax(scores)]\n",
    "    #initialize the tolerance\n",
    "    t = init_tol\n",
    "    \n",
    "    \n",
    "    #run the algorith max_iter times\n",
    "    for i in range(max_iter):\n",
    "        #compute a step of the algorithm\n",
    "        if verbose_progress : \n",
    "            print(\"Current iteration : {} Progress : {:.2f}%\".format(i + 1, (i + 1) / max_iter * 100), end=\"\\r\")\n",
    "        selection, scores = Metropolis_Hasting_step(data, _lambda, cache, selection, scores, remove_duplicates=False, tol=t)\n",
    "        \n",
    "        #compute the best current score\n",
    "        best = np.max(scores)\n",
    "        #if there is an improvement store the new values\n",
    "        if best > best_score:\n",
    "            best_score = best\n",
    "            time_best_reached = i\n",
    "            best_selection = np.copy(selection[np.argmax(scores)])\n",
    "        #keep track of the best scores\n",
    "        best_scores.append(best)\n",
    "        \n",
    "        #update the tolerance\n",
    "        t = max(t - init_tol / (0.6 * max_iter), 0)\n",
    "    if verbose_progress:\n",
    "        print()  \n",
    "    if (display_result):\n",
    "        loc_max = is_local_max(data, _lambda, cache, best_selection, best_score)\n",
    "        print()\n",
    "        print(\"Score : {}\".format(best_score))\n",
    "        print(\"Number of cities : {}\".format(np.sum(best_selection)))\n",
    "        print(\"Batch size : {}\".format(len(scores)))\n",
    "        print(\"Number of iterations until finding the best score = {}\".format(time_best_reached))\n",
    "        print(\"Is the best selection a local max : {}\".format(loc_max))\n",
    "    if (plot):\n",
    "        plt.figure(figsize=(5,5))\n",
    "        plt.plot(np.arange(len(best_scores)), best_scores, c=\"g\")\n",
    "        plt.title(\"Evolution of the score\")\n",
    "        plt.xlabel(\"#iteration\")\n",
    "        plt.ylabel(\"Best Score\")\n",
    "        plt.show()\n",
    "        plt.figure(figsize=(5,5))\n",
    "        plt.scatter(data.x[:,0], data.x[:,1], c=\"r\")\n",
    "        plt.scatter(data.x[best_selection,0], data.x[best_selection,1], c=\"g\")\n",
    "        plt.show()\n",
    "    return best_selection, np.max(np.array(best_scores))"
   ]
  },
  {
   "cell_type": "code",
   "execution_count": 30,
   "metadata": {},
   "outputs": [],
   "source": [
    "np.random.seed(36)\n",
    "g = G1(2000)\n",
    "l = 0.5"
   ]
  },
  {
   "cell_type": "code",
   "execution_count": 32,
   "metadata": {
    "scrolled": true
   },
   "outputs": [
    {
     "name": "stdout",
     "output_type": "stream",
     "text": [
      "Current iteration : 20000 Progress : 100.00%\n",
      "\n",
      "Score : 13.113707727141275\n",
      "Number of cities : 89\n",
      "Batch size : 5\n",
      "Number of iterations until finding the best score = 18570\n",
      "Is the best selection a local max : True\n"
     ]
    },
    {
     "data": {
      "image/png": "[encoded data removed]",
      "text/plain": [
       "<Figure size 360x360 with 1 Axes>"
      ]
     },
     "metadata": {
      "needs_background": "light"
     },
     "output_type": "display_data"
    },
    {
     "data": {
      "image/png": "[encoded data removed]",
      "text/plain": [
       "<Figure size 360x360 with 1 Axes>"
      ]
     },
     "metadata": {
      "needs_background": "light"
     },
     "output_type": "display_data"
    },
    {
     "name": "stdout",
     "output_type": "stream",
     "text": [
      "Wall time: 19min 18s\n"
     ]
    }
   ],
   "source": [
    "%%time\n",
    "best_selection, best = Metropolis_Hasting(g, l, plot=True, verbose_progress=True, display_result=True, batch_size=5, max_iter=20000, init_tol=2.5)"
   ]
  },
  {
   "cell_type": "code",
   "execution_count": 27,
   "metadata": {},
   "outputs": [
    {
     "data": {
      "image/png": "[encoded data removed]",
      "text/plain": [
       "<Figure size 360x360 with 1 Axes>"
      ]
     },
     "metadata": {
      "needs_background": "light"
     },
     "output_type": "display_data"
    }
   ],
   "source": [
    "#display all cities\n",
    "plt.figure(figsize=(5,5))\n",
    "plt.scatter(g.x[:,0], g.x[:,1])\n",
    "plt.show()"
   ]
  },
  {
   "cell_type": "code",
   "execution_count": null,
   "metadata": {},
   "outputs": [],
   "source": []
  }
 ],
 "metadata": {
  "colab": {
   "authorship_tag": "ABX9TyMHjD1LWevMEBRvKxj7qq4T",
   "collapsed_sections": [],
   "include_colab_link": true,
   "name": "model.ipynb",
   "provenance": []
  },
  "kernelspec": {
   "display_name": "Python 3",
   "language": "python",
   "name": "python3"
  },
  "language_info": {
   "codemirror_mode": {
    "name": "ipython",
    "version": 3
   },
   "file_extension": ".py",
   "mimetype": "text/x-python",
   "name": "python",
   "nbconvert_exporter": "python",
   "pygments_lexer": "ipython3",
   "version": "3.8.3"
  }
 },
 "nbformat": 4,
 "nbformat_minor": 4
}
