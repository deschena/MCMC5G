{
 "cells": [
  {
   "cell_type": "markdown",
   "metadata": {
    "colab_type": "text",
    "id": "view-in-github"
   },
   "source": [
    "<a href=\"https://colab.research.google.com/github/antoinexp/markov-chains-COM-516/blob/main/model.ipynb\" target=\"_parent\"><img src=\"https://colab.research.google.com/assets/colab-badge.svg\" alt=\"Open In Colab\"/></a>"
   ]
  },
  {
   "cell_type": "markdown",
   "metadata": {
    "id": "mCc-m9oEkOGy"
   },
   "source": [
    "This notebook is provided as a starting point to help you generate random instances G1 and G2 as mentioned in the handout.\n",
    "\n",
    "You are free to use and modify it at your own convenience.\n",
    "\n",
    "---\n",
    "\n"
   ]
  },
  {
   "cell_type": "code",
   "execution_count": 1,
   "metadata": {
    "id": "BMV_GyHTe-A5"
   },
   "outputs": [],
   "source": [
    "import scipy.stats as st\n",
    "import numpy as np\n",
    "import scipy as sp\n",
    "import matplotlib.pyplot as plt"
   ]
  },
  {
   "cell_type": "code",
   "execution_count": 2,
   "metadata": {},
   "outputs": [],
   "source": [
    "np.random.seed(36)"
   ]
  },
  {
   "cell_type": "code",
   "execution_count": 3,
   "metadata": {
    "id": "9_4LNOEAfb6H"
   },
   "outputs": [],
   "source": [
    "class DatasetGenerator(object):\n",
    "    def __init__(self, N=100):\n",
    "        self.N = N\n",
    "        self.x = None\n",
    "        self.v = None\n",
    "        self.refresh()\n",
    "  \n",
    "    def refresh(self):\n",
    "        raise Exception(\"undefined\")"
   ]
  },
  {
   "cell_type": "code",
   "execution_count": 4,
   "metadata": {
    "id": "69EQnzkcgxtb"
   },
   "outputs": [],
   "source": [
    "class G1(DatasetGenerator):\n",
    "    def refresh(self):\n",
    "        self.x = st.uniform().rvs((self.N,2))\n",
    "        self.v = st.uniform().rvs((self.N,))"
   ]
  },
  {
   "cell_type": "code",
   "execution_count": 5,
   "metadata": {
    "id": "NEPDqCflgzWe"
   },
   "outputs": [],
   "source": [
    "class G2(DatasetGenerator):\n",
    "    def refresh(self):\n",
    "        self.x = st.uniform().rvs((self.N,2))\n",
    "        self.v = np.exp(st.norm(-0.85, 1.3).rvs((self.N,)))"
   ]
  },
  {
   "cell_type": "markdown",
   "metadata": {
    "id": "q_Kco86_fDPA"
   },
   "source": [
    "### Uniform distribution ($\\mathcal U([0,1])$) "
   ]
  },
  {
   "cell_type": "code",
   "execution_count": 6,
   "metadata": {
    "id": "gZmvCOWse-93"
   },
   "outputs": [],
   "source": [
    "g1 = G1()"
   ]
  },
  {
   "cell_type": "markdown",
   "metadata": {
    "id": "mQbhQdsEif96"
   },
   "source": [
    "Examples:"
   ]
  },
  {
   "cell_type": "code",
   "execution_count": 7,
   "metadata": {
    "colab": {
     "base_uri": "https://localhost:8080/",
     "height": 265
    },
    "id": "zXOZp0KUiO5P",
    "outputId": "6447f237-cd07-4c8f-84c8-a5af51e03698"
   },
   "outputs": [
    {
     "data": {
      "image/png": "[encoded data removed]",
      "text/plain": [
       "<Figure size 432x288 with 1 Axes>"
      ]
     },
     "metadata": {
      "needs_background": "light"
     },
     "output_type": "display_data"
    }
   ],
   "source": [
    "# Plot a histogram of the v array\n",
    "plt.hist(g1.v, bins=30)\n",
    "plt.show()"
   ]
  },
  {
   "cell_type": "code",
   "execution_count": 8,
   "metadata": {
    "colab": {
     "base_uri": "https://localhost:8080/",
     "height": 320
    },
    "id": "GMHuTtiIii5H",
    "outputId": "f5ff204f-7e45-4f3b-ed0c-5e18cb4a5e52"
   },
   "outputs": [
    {
     "data": {
      "image/png": "[encoded data removed]",
      "text/plain": [
       "<Figure size 360x360 with 1 Axes>"
      ]
     },
     "metadata": {
      "needs_background": "light"
     },
     "output_type": "display_data"
    }
   ],
   "source": [
    "# plot the position of the points\n",
    "plt.figure(figsize=(5,5))\n",
    "plt.scatter(g1.x[:,0], g1.x[:,1])\n",
    "plt.show()"
   ]
  },
  {
   "cell_type": "markdown",
   "metadata": {
    "id": "CCmeQMcZiuGX"
   },
   "source": [
    "You can refresh the dataset"
   ]
  },
  {
   "cell_type": "code",
   "execution_count": 9,
   "metadata": {
    "id": "X5zibI5Rix7r"
   },
   "outputs": [],
   "source": [
    "g1.refresh() # generate a new dataset"
   ]
  },
  {
   "cell_type": "code",
   "execution_count": 10,
   "metadata": {
    "colab": {
     "base_uri": "https://localhost:8080/",
     "height": 265
    },
    "id": "jwCwLEgEixrE",
    "outputId": "8b0be7af-9771-417c-d22f-9ae719404ee6"
   },
   "outputs": [
    {
     "data": {
      "image/png": "[encoded data removed]",
      "text/plain": [
       "<Figure size 432x288 with 1 Axes>"
      ]
     },
     "metadata": {
      "needs_background": "light"
     },
     "output_type": "display_data"
    }
   ],
   "source": [
    "plt.hist(g1.v, bins=30)\n",
    "plt.show()"
   ]
  },
  {
   "cell_type": "markdown",
   "metadata": {
    "id": "Ka6haqFplqaU"
   },
   "source": [
    "Or for instance, you can generate 10 instances and compute the average position of all the points:"
   ]
  },
  {
   "cell_type": "code",
   "execution_count": 11,
   "metadata": {
    "colab": {
     "base_uri": "https://localhost:8080/"
    },
    "id": "ZB9knwmOlvVP",
    "outputId": "28aecbc3-d2d8-4126-b104-6b12238d8974"
   },
   "outputs": [
    {
     "name": "stdout",
     "output_type": "stream",
     "text": [
      "[0.50442458 0.50442458]\n"
     ]
    }
   ],
   "source": [
    "m = np.array([0., 0.])\n",
    "\n",
    "for _ in range(10):\n",
    "    g1.refresh() # refresh the dataset\n",
    "    m  += 0.1*g1.x.mean()\n",
    "\n",
    "print(m)"
   ]
  },
  {
   "cell_type": "markdown",
   "metadata": {
    "id": "JgzoeYOafZSM"
   },
   "source": [
    "### Test on log-normal distribution"
   ]
  },
  {
   "cell_type": "code",
   "execution_count": 12,
   "metadata": {
    "id": "nszpfgZkfROG"
   },
   "outputs": [],
   "source": [
    "g2 = G2()"
   ]
  },
  {
   "cell_type": "markdown",
   "metadata": {
    "id": "k-CfVPQpjRu9"
   },
   "source": [
    "Example:\n",
    "\n",
    "you can use g2 to generate an instance of the lognormal distribution"
   ]
  },
  {
   "cell_type": "code",
   "execution_count": 13,
   "metadata": {
    "colab": {
     "base_uri": "https://localhost:8080/",
     "height": 265
    },
    "id": "brEhSUl2i6LC",
    "outputId": "43a129cd-78db-4bef-9980-21758dd8b9b8"
   },
   "outputs": [
    {
     "data": {
      "image/png": "[encoded data removed]",
      "text/plain": [
       "<Figure size 432x288 with 1 Axes>"
      ]
     },
     "metadata": {
      "needs_background": "light"
     },
     "output_type": "display_data"
    }
   ],
   "source": [
    "plt.hist(g2.v, bins=30)\n",
    "plt.show()"
   ]
  },
  {
   "cell_type": "code",
   "execution_count": 14,
   "metadata": {
    "id": "QQ5rVZDxjXKA"
   },
   "outputs": [],
   "source": [
    "g2.refresh() # to generate a new x and v"
   ]
  },
  {
   "cell_type": "code",
   "execution_count": 15,
   "metadata": {
    "colab": {
     "base_uri": "https://localhost:8080/",
     "height": 265
    },
    "id": "F44feKJokJS2",
    "outputId": "499c5cd5-d2cf-4871-f608-54212dbcb122"
   },
   "outputs": [
    {
     "data": {
      "image/png": "[encoded data removed]",
      "text/plain": [
       "<Figure size 432x288 with 1 Axes>"
      ]
     },
     "metadata": {
      "needs_background": "light"
     },
     "output_type": "display_data"
    }
   ],
   "source": [
    "plt.hist(g2.v, bins=30)\n",
    "plt.show()"
   ]
  },
  {
   "cell_type": "markdown",
   "metadata": {
    "id": "UrAwB81ykRCM"
   },
   "source": [
    "---"
   ]
  },
  {
   "cell_type": "markdown",
   "metadata": {
    "id": "GeH_E-MGjHvd"
   },
   "source": [
    "### Metropolis Hastings"
   ]
  },
  {
   "cell_type": "code",
   "execution_count": 16,
   "metadata": {
    "id": "sbZXvBgti6_C"
   },
   "outputs": [],
   "source": [
    "# fill-in this section with your code"
   ]
  },
  {
   "cell_type": "code",
   "execution_count": 17,
   "metadata": {},
   "outputs": [],
   "source": [
    "g = g1"
   ]
  },
  {
   "cell_type": "code",
   "execution_count": 18,
   "metadata": {},
   "outputs": [],
   "source": [
    "_lambda = 0.5"
   ]
  },
  {
   "cell_type": "code",
   "execution_count": 19,
   "metadata": {},
   "outputs": [],
   "source": [
    "def max_squared_dist(points):\n",
    "    N = len(points)\n",
    "    p1 = points.reshape(1, N, 2)\n",
    "    p2 = points.reshape(N, 1, 2)\n",
    "    return np.max(np.sum(np.square(p1 - p2), axis = 2))\n",
    "\n",
    "def f(_lambda, x, v, N):\n",
    "    return np.sum(v) - _lambda * N * np.pi * max_squared_dist(x) / 4"
   ]
  },
  {
   "cell_type": "code",
   "execution_count": 20,
   "metadata": {},
   "outputs": [
    {
     "name": "stdout",
     "output_type": "stream",
     "text": [
      "20000\n",
      "Wall time: 4.02 s\n"
     ]
    }
   ],
   "source": [
    "%%time\n",
    "#SpeedTest\n",
    "n1 = 101\n",
    "n2 = 101\n",
    "row, col = np.indices((n1, n2))\n",
    "points = np.dstack([row, col]).flatten().reshape(n1 * n2, 2)\n",
    "print(max_squared_dist(points))"
   ]
  },
  {
   "cell_type": "code",
   "execution_count": 21,
   "metadata": {},
   "outputs": [],
   "source": [
    "def Metropolis_Hasting_step(selection, scores, data, remove_duplicates = True, tol = 0):\n",
    "    ind = np.random.randint(0,data.N, len(selection))\n",
    "    for i in range(len(selection)):\n",
    "        mask = np.zeros(data.N, dtype = \"bool\")\n",
    "        mask[ind[i]] = True\n",
    "        proposal = selection[i] ^ mask\n",
    "        if (np.sum(proposal) > 0):\n",
    "            old_score = scores[i]\n",
    "            score = f(_lambda, data.x[proposal], data.v[proposal], data.N)\n",
    "            if score >= old_score - tol :\n",
    "                scores[i] = score\n",
    "                selection[i] = proposal\n",
    "    if remove_duplicates:\n",
    "        selection, ids = np.unique(selection, return_index = True, axis = 0)\n",
    "        scores = scores[ids]    \n",
    "    return selection, scores"
   ]
  },
  {
   "cell_type": "code",
   "execution_count": 22,
   "metadata": {},
   "outputs": [],
   "source": [
    "def is_not_local_max(selection_line, score, data, tol = 0):\n",
    "    mask = np.zeros(data.N, dtype = \"bool\")\n",
    "    for i in range(data.N):\n",
    "        mask[i] = True\n",
    "        proposal = selection_line ^ mask\n",
    "        if (np.sum(proposal) > 0):\n",
    "            new_score = f(_lambda, data.x[proposal], data.v[proposal], data.N)\n",
    "            if new_score >= score - tol:\n",
    "                return True\n",
    "        mask[i] = False\n",
    "    return False"
   ]
  },
  {
   "cell_type": "code",
   "execution_count": 23,
   "metadata": {},
   "outputs": [],
   "source": [
    "def filter_selection(selection, scores, data, tol = 0):\n",
    "    useless_lines = []\n",
    "    best_score = np.max(scores)\n",
    "    useful_count = 0\n",
    "    for i in range(len(selection)):\n",
    "        is_best = (scores[i] == best_score)\n",
    "        is_useful = is_not_local_max(selection[i], scores[i], data, tol = tol)\n",
    "        useful_count += is_useful\n",
    "        if not (is_useful or is_best):\n",
    "            useless_lines.append(i)\n",
    "    selection = np.delete(selection, useless_lines, axis = 0)\n",
    "    scores = np.delete(scores, useless_lines, axis = 0)\n",
    "    return selection, scores, useful_count > 0"
   ]
  },
  {
   "cell_type": "code",
   "execution_count": 24,
   "metadata": {},
   "outputs": [],
   "source": [
    "def drop_half(selection, scores, best_selection, best_score):\n",
    "    if len(scores) <= 1 :\n",
    "        return selection, scores\n",
    "    else :\n",
    "        argmin = np.argmin(scores)\n",
    "        selection[argmin] = np.copy(best_selection)\n",
    "        scores[argmin] = best_score\n",
    "        where = np.where(np.median(scores) <= scores)\n",
    "        return selection[where], scores[where]"
   ]
  },
  {
   "cell_type": "code",
   "execution_count": 45,
   "metadata": {},
   "outputs": [],
   "source": [
    "def Metropolis_Hasting(data, init_selection = None, plot = False, verbose = False, batch_size = 100, max_iter = 1000, init_tol = 0):\n",
    "    if init_selection is not None :\n",
    "        selection = init_selection\n",
    "    else :\n",
    "        selection = np.identity(data.N, dtype = \"bool\")[:batch_size]\n",
    "    scores = np.array([f(_lambda, data.x[selection[i]], data.v[selection[i]], data.N) for i in range(len(selection))])\n",
    "    i = 0\n",
    "    best_scores = []\n",
    "    best_score = np.max(scores)\n",
    "    time_best_reached = 0\n",
    "    best_selection = selection[0]\n",
    "    t = init_tol\n",
    "    while (i < max_iter):\n",
    "        selection, scores = Metropolis_Hasting_step(selection, scores, data, remove_duplicates = False, tol = t)\n",
    "\n",
    "        best = np.max(scores)\n",
    "        if best > best_score:\n",
    "            best_score = best\n",
    "            time_best_reached = i\n",
    "            best_selection = np.copy(selection[np.argmax(scores)])\n",
    "        best_scores.append(best)\n",
    "        #if i % 100 == 0:\n",
    "         #   selection, scores, _ = filter_selection(selection, scores, data, tol = t)\n",
    "        i += 1\n",
    "        t -= init_tol/(0.6 * max_iter)\n",
    "        t = max(t, 0)\n",
    "    improvement_possible = is_not_local_max(best_selection, best_score, data)\n",
    "    if (verbose):\n",
    "        print(\"Score : {}\".format(np.max(scores)))\n",
    "        print(\"Number of cities : {}\".format(np.sum(selection[np.argmax(scores)])))\n",
    "        print(\"Batch size : {}\".format(len(scores)))\n",
    "        print(\"Number of iterations = {}\".format(i))\n",
    "        print(\"Number of iterations until finding the best score = {}\".format(time_best_reached))\n",
    "        print(\"Improvement possible from best : {}\".format(improvement_possible))\n",
    "    if (plot):\n",
    "        plt.figure(figsize=(7,7))\n",
    "        plt.plot(np.arange(i), best_scores, \"g\")\n",
    "        plt.show()\n",
    "        plt.figure(figsize=(5,5))\n",
    "        selected = best_selection\n",
    "        plt.scatter(data.x[:,0], data.x[:,1])\n",
    "        plt.scatter(data.x[selected,0], data.x[selected,1])\n",
    "        plt.show()\n",
    "    return best_selection, np.max(np.array(best_scores)), time_best_reached"
   ]
  },
  {
   "cell_type": "code",
   "execution_count": 46,
   "metadata": {
    "scrolled": true
   },
   "outputs": [
    {
     "name": "stdout",
     "output_type": "stream",
     "text": [
      "Score : 5.716553209879224\n",
      "Number of cities : 18\n",
      "Batch size : 50\n",
      "Number of iterations = 1000\n",
      "Number of iterations until finding the best score = 716\n",
      "Improvement possible from best : False\n"
     ]
    },
    {
     "data": {
      "image/png": "[encoded data removed]",
      "text/plain": [
       "<Figure size 504x504 with 1 Axes>"
      ]
     },
     "metadata": {
      "needs_background": "light"
     },
     "output_type": "display_data"
    },
    {
     "data": {
      "image/png": "[encoded data removed]",
      "text/plain": [
       "<Figure size 360x360 with 1 Axes>"
      ]
     },
     "metadata": {
      "needs_background": "light"
     },
     "output_type": "display_data"
    },
    {
     "name": "stdout",
     "output_type": "stream",
     "text": [
      "5.716553209879224\n",
      "Wall time: 3.04 s\n"
     ]
    }
   ],
   "source": [
    "%%time\n",
    "best_selection, best, time_best_reached = Metropolis_Hasting(g, plot = True, verbose = True, batch_size = 50, max_iter = 1000, init_tol = 2)\n",
    "print(best)#6.005051036563401 with g1 lambda = 0.5"
   ]
  },
  {
   "cell_type": "code",
   "execution_count": 28,
   "metadata": {},
   "outputs": [
    {
     "data": {
      "image/png": "[encoded data removed]",
      "text/plain": [
       "<Figure size 360x360 with 1 Axes>"
      ]
     },
     "metadata": {
      "needs_background": "light"
     },
     "output_type": "display_data"
    }
   ],
   "source": [
    "plt.figure(figsize=(5,5))\n",
    "plt.scatter(g.x[:,0], g.x[:,1])\n",
    "plt.show()"
   ]
  },
  {
   "cell_type": "code",
   "execution_count": 57,
   "metadata": {},
   "outputs": [
    {
     "name": "stdout",
     "output_type": "stream",
     "text": [
      "\n",
      "Tol = 0.0\n",
      "Progress : 100.00%\n",
      "Min  : 5.349955937038519\n",
      "Max  : 5.716553209879224\n",
      "Mean : 5.537409540715867\n",
      "Std  : 0.18259081942528776\n",
      "\n",
      "Tol = 0.2\n",
      "Progress : 100.00%\n",
      "Min  : 5.349955937038519\n",
      "Max  : 5.716553209879224\n",
      "Mean : 5.705555291694001\n",
      "Std  : 0.06253681003391884\n",
      "\n",
      "Tol = 0.4\n",
      "Progress : 100.00%\n",
      "Min  : 5.716553209879224\n",
      "Max  : 5.716553209879224\n",
      "Mean : 5.716553209879222\n",
      "Std  : 2.6645352591003757e-15\n",
      "\n",
      "Tol = 0.6000000000000001\n",
      "Progress : 100.00%\n",
      "Min  : 5.716553209879224\n",
      "Max  : 5.716553209879224\n",
      "Mean : 5.716553209879222\n",
      "Std  : 2.6645352591003757e-15\n",
      "\n",
      "Tol = 0.8\n",
      "Progress : 100.00%\n",
      "Min  : 5.716553209879224\n",
      "Max  : 5.716553209879224\n",
      "Mean : 5.716553209879222\n",
      "Std  : 2.6645352591003757e-15\n",
      "\n",
      "Tol = 1.0\n",
      "Progress : 100.00%\n",
      "Min  : 5.639035523222901\n",
      "Max  : 5.716553209879224\n",
      "Mean : 5.71345250241297\n",
      "Std  : 0.015190302267915526\n",
      "\n",
      "Tol = 1.2000000000000002\n",
      "Progress : 100.00%\n",
      "Min  : 5.639035523222901\n",
      "Max  : 5.716553209879224\n",
      "Mean : 5.709567026193512\n",
      "Std  : 0.022181336635734024\n",
      "\n",
      "Tol = 1.4000000000000001\n",
      "Progress : 100.00%\n",
      "Min  : 5.639035523222901\n",
      "Max  : 5.716553209879224\n",
      "Mean : 5.69688918965004\n",
      "Std  : 0.03346078393771101\n",
      "\n",
      "Tol = 1.6\n",
      "Progress : 100.00%\n",
      "Min  : 5.639035523222901\n",
      "Max  : 5.716553209879224\n",
      "Mean : 5.6801198971507505\n",
      "Std  : 0.03868901450756899\n",
      "\n",
      "Tol = 1.8\n",
      "Progress : 100.00%\n",
      "Min  : 5.315047145702757\n",
      "Max  : 6.005051036563401\n",
      "Mean : 5.664196013720552\n",
      "Std  : 0.07325198276318816\n",
      "\n",
      "Tol = 2.0\n",
      "Progress : 100.00%\n",
      "Min  : 5.639035523222901\n",
      "Max  : 6.005051036563401\n",
      "Mean : 5.717944659141924\n",
      "Std  : 0.11855093531689175\n",
      "\n",
      "Tol = 2.2\n",
      "Progress : 100.00%\n",
      "Min  : 5.361627343048705\n",
      "Max  : 6.005051036563401\n",
      "Mean : 5.754842071310218\n",
      "Std  : 0.15398550137928688\n",
      "\n",
      "Tol = 2.4000000000000004\n",
      "Progress : 100.00%\n",
      "Min  : 5.228368967897315\n",
      "Max  : 6.005051036563401\n",
      "Mean : 5.790598992325754\n",
      "Std  : 0.18886795678844223\n",
      "\n",
      "Tol = 2.6\n",
      "Progress : 100.00%\n",
      "Min  : 5.305405599614534\n",
      "Max  : 6.005051036563401\n",
      "Mean : 5.819627035824852\n",
      "Std  : 0.18202488392668278\n",
      "\n",
      "Tol = 2.8000000000000003\n",
      "Progress : 100.00%\n",
      "Min  : 4.956454584175006\n",
      "Max  : 6.005051036563401\n",
      "Mean : 5.8114111293072135\n",
      "Std  : 0.21790391299190173\n",
      "\n",
      "Tol = 3.0\n",
      "Progress : 100.00%\n",
      "Min  : 5.148054655670478\n",
      "Max  : 6.005051036563401\n",
      "Mean : 5.7924750009760135\n",
      "Std  : 0.2398668031979276\n",
      "\n",
      "Tol = 3.2\n",
      "Progress : 100.00%\n",
      "Min  : 5.2062574471439405\n",
      "Max  : 6.005051036563401\n",
      "Mean : 5.776040265696889\n",
      "Std  : 0.27145140467602985\n",
      "\n",
      "Tol = 3.4000000000000004\n",
      "Progress : 100.00%\n",
      "Min  : 5.148054655670478\n",
      "Max  : 6.005051036563401\n",
      "Mean : 5.763262381292959\n",
      "Std  : 0.2611934377885845\n",
      "\n",
      "Tol = 3.6\n",
      "Progress : 100.00%\n",
      "Min  : 5.049707796668535\n",
      "Max  : 6.005051036563401\n",
      "Mean : 5.6194331125838115\n",
      "Std  : 0.33016394984395125\n",
      "\n",
      "Tol = 3.8000000000000003\n",
      "Progress : 100.00%\n",
      "Min  : 5.038671106381088\n",
      "Max  : 6.005051036563401\n",
      "Mean : 5.570084942654482\n",
      "Std  : 0.3277076020512645\n",
      "\n",
      "Tol = 4.0\n",
      "Progress : 100.00%\n",
      "Min  : 5.049707796668535\n",
      "Max  : 6.005051036563401\n",
      "Mean : 5.503179148903422\n",
      "Std  : 0.3322591801923204\n",
      "Wall time: 2h 8min 57s\n"
     ]
    }
   ],
   "source": [
    "%%time\n",
    "N = 100\n",
    "minimums = []\n",
    "maximums = []\n",
    "means    = []\n",
    "stds     = []\n",
    "tolrange = np.linspace(0, 4, 21)\n",
    "for tol in tolrange:\n",
    "    test_scores = []\n",
    "    times = []\n",
    "    print(\"\\nTol = {}\".format(tol))\n",
    "    for i in range(N):\n",
    "        sel, score, time_best_reached = Metropolis_Hasting(g, plot = False, verbose = False, batch_size = 50, max_iter = 1000, init_tol = tol)\n",
    "        test_scores.append(score)\n",
    "        times.append(time_best_reached)     \n",
    "        print(\"\\rProgress : {:.2f}%\".format((i + 1) / N * 100), end = \"\")\n",
    "    print()\n",
    "    print(\"Min  : {}\".format(np.min(test_scores)))\n",
    "    print(\"Max  : {}\".format(np.max(test_scores)))\n",
    "    print(\"Mean : {}\".format(np.mean(test_scores)))\n",
    "    print(\"Std  : {}\".format(np.std(test_scores)))\n",
    "    minimums.append(np.min(test_scores))\n",
    "    maximums.append(np.max(test_scores))\n",
    "    means.append(np.mean(test_scores))\n",
    "    stds.append(np.std(test_scores))"
   ]
  },
  {
   "cell_type": "code",
   "execution_count": 58,
   "metadata": {},
   "outputs": [
    {
     "data": {
      "text/plain": [
       "20"
      ]
     },
     "execution_count": 58,
     "metadata": {},
     "output_type": "execute_result"
    }
   ],
   "source": [
    "test_scores = np.array(test_scores)\n",
    "times = np.array(times)\n",
    "np.count_nonzero(test_scores > 6)"
   ]
  },
  {
   "cell_type": "code",
   "execution_count": 59,
   "metadata": {
    "scrolled": true
   },
   "outputs": [
    {
     "data": {
      "text/plain": [
       "5.503179148903422"
      ]
     },
     "execution_count": 59,
     "metadata": {},
     "output_type": "execute_result"
    }
   ],
   "source": [
    "np.mean(test_scores)"
   ]
  },
  {
   "cell_type": "code",
   "execution_count": 60,
   "metadata": {},
   "outputs": [
    {
     "data": {
      "text/plain": [
       "0.3322591801923204"
      ]
     },
     "execution_count": 60,
     "metadata": {},
     "output_type": "execute_result"
    }
   ],
   "source": [
    "np.std(test_scores)"
   ]
  },
  {
   "cell_type": "code",
   "execution_count": 64,
   "metadata": {},
   "outputs": [
    {
     "data": {
      "image/png": "[encoded data removed]",
      "text/plain": [
       "<Figure size 432x288 with 1 Axes>"
      ]
     },
     "metadata": {
      "needs_background": "light"
     },
     "output_type": "display_data"
    },
    {
     "data": {
      "text/plain": [
       "<Figure size 432x288 with 0 Axes>"
      ]
     },
     "metadata": {},
     "output_type": "display_data"
    }
   ],
   "source": [
    "plt.plot(tolrange, minimums, c = \"r\", label = \"Minimum\")\n",
    "plt.plot(tolrange, maximums, c = \"g\", label = \"Maximum\")\n",
    "plt.plot(tolrange, means, c = \"b\", label = \"Mean\")\n",
    "plt.title(\"Test results for distribution G1 and lambda = 0.5\")\n",
    "plt.xlabel(\"Initial Tolerance\")\n",
    "plt.ylabel(\"Score\")\n",
    "plt.legend()\n",
    "plt.show()\n",
    "plt.savefig(\"testResults50.png\")"
   ]
  },
  {
   "cell_type": "code",
   "execution_count": null,
   "metadata": {},
   "outputs": [],
   "source": []
  }
 ],
 "metadata": {
  "colab": {
   "authorship_tag": "ABX9TyMHjD1LWevMEBRvKxj7qq4T",
   "collapsed_sections": [],
   "include_colab_link": true,
   "name": "model.ipynb",
   "provenance": []
  },
  "kernelspec": {
   "display_name": "Python 3",
   "language": "python",
   "name": "python3"
  },
  "language_info": {
   "codemirror_mode": {
    "name": "ipython",
    "version": 3
   },
   "file_extension": ".py",
   "mimetype": "text/x-python",
   "name": "python",
   "nbconvert_exporter": "python",
   "pygments_lexer": "ipython3",
   "version": "3.8.3"
  }
 },
 "nbformat": 4,
 "nbformat_minor": 4
}
